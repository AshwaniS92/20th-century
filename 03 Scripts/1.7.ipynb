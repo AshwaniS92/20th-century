{
 "cells": [
  {
   "cell_type": "markdown",
   "id": "e94fd46c-dc5d-47dd-810c-6b4da86f64f6",
   "metadata": {},
   "source": [
    "# 1.7 Network graph visualization"
   ]
  },
  {
   "cell_type": "markdown",
   "id": "2a744d38-2b0e-4b81-818b-08fbf334acf2",
   "metadata": {},
   "source": [
    "## Importing libraries"
   ]
  },
  {
   "cell_type": "code",
   "execution_count": 84,
   "id": "a23b6a65-3ea4-4b56-a94c-f0abc7b6ecab",
   "metadata": {},
   "outputs": [],
   "source": [
    "import pandas as pd\n",
    "import numpy as np\n",
    "import networkx as nx\n",
    "import os\n",
    "import matplotlib.pyplot as plt\n",
    "from pyvis.network import Network\n",
    "import seaborn as sns\n",
    "import pyvis"
   ]
  },
  {
   "cell_type": "code",
   "execution_count": 42,
   "id": "0a2d3ae9-d32e-4812-9d8d-8122e78af007",
   "metadata": {},
   "outputs": [],
   "source": [
    "# Import relationship data\n",
    "\n",
    "relationship_df = pd.read_csv('/Users/ashwanisherawat/Downloads/Download/relationships.csv', index_col = 0)"
   ]
  },
  {
   "cell_type": "code",
   "execution_count": 43,
   "id": "55d603a1-c6b2-43a9-b10e-b363b1929441",
   "metadata": {},
   "outputs": [
    {
     "data": {
      "text/html": [
       "<div>\n",
       "<style scoped>\n",
       "    .dataframe tbody tr th:only-of-type {\n",
       "        vertical-align: middle;\n",
       "    }\n",
       "\n",
       "    .dataframe tbody tr th {\n",
       "        vertical-align: top;\n",
       "    }\n",
       "\n",
       "    .dataframe thead th {\n",
       "        text-align: right;\n",
       "    }\n",
       "</style>\n",
       "<table border=\"1\" class=\"dataframe\">\n",
       "  <thead>\n",
       "    <tr style=\"text-align: right;\">\n",
       "      <th></th>\n",
       "      <th>Entity 2</th>\n",
       "      <th>Sentence</th>\n",
       "    </tr>\n",
       "    <tr>\n",
       "      <th>Entity 1</th>\n",
       "      <th></th>\n",
       "      <th></th>\n",
       "    </tr>\n",
       "  </thead>\n",
       "  <tbody>\n",
       "    <tr>\n",
       "      <th>Germany</th>\n",
       "      <td>Russia</td>\n",
       "      <td>The Bolsheviks negotiated the Treaty of Brest-...</td>\n",
       "    </tr>\n",
       "    <tr>\n",
       "      <th>Germany</th>\n",
       "      <td>Italy</td>\n",
       "      <td>Germany, 1933\\nFascism first appeared in Italy...</td>\n",
       "    </tr>\n",
       "    <tr>\n",
       "      <th>Germany</th>\n",
       "      <td>Germany</td>\n",
       "      <td>When Adolf Hitler came to power in Germany in ...</td>\n",
       "    </tr>\n",
       "    <tr>\n",
       "      <th>France</th>\n",
       "      <td>Germany</td>\n",
       "      <td>Britain and France, much to Hitler's surprise,...</td>\n",
       "    </tr>\n",
       "    <tr>\n",
       "      <th>Germany</th>\n",
       "      <td>Italy</td>\n",
       "      <td>Both Germany and Italy declared war on the Uni...</td>\n",
       "    </tr>\n",
       "    <tr>\n",
       "      <th>France</th>\n",
       "      <td>Germany</td>\n",
       "      <td>Rommel, who was now in charge of defending Fra...</td>\n",
       "    </tr>\n",
       "    <tr>\n",
       "      <th>Germany</th>\n",
       "      <td>Italy</td>\n",
       "      <td>On 27 September 1940, Japan became cosignatori...</td>\n",
       "    </tr>\n",
       "    <tr>\n",
       "      <th>Russia</th>\n",
       "      <td>France</td>\n",
       "      <td>Eventually, nine nations would overtly develop...</td>\n",
       "    </tr>\n",
       "    <tr>\n",
       "      <th>Russia</th>\n",
       "      <td>China</td>\n",
       "      <td>Eventually, nine nations would overtly develop...</td>\n",
       "    </tr>\n",
       "    <tr>\n",
       "      <th>France</th>\n",
       "      <td>China</td>\n",
       "      <td>Eventually, nine nations would overtly develop...</td>\n",
       "    </tr>\n",
       "    <tr>\n",
       "      <th>Germany</th>\n",
       "      <td>France</td>\n",
       "      <td>Germany, chief instigator of the war, was plac...</td>\n",
       "    </tr>\n",
       "  </tbody>\n",
       "</table>\n",
       "</div>"
      ],
      "text/plain": [
       "         Entity 2                                           Sentence\n",
       "Entity 1                                                            \n",
       "Germany    Russia  The Bolsheviks negotiated the Treaty of Brest-...\n",
       "Germany     Italy  Germany, 1933\\nFascism first appeared in Italy...\n",
       "Germany   Germany  When Adolf Hitler came to power in Germany in ...\n",
       "France    Germany  Britain and France, much to Hitler's surprise,...\n",
       "Germany     Italy  Both Germany and Italy declared war on the Uni...\n",
       "France    Germany  Rommel, who was now in charge of defending Fra...\n",
       "Germany     Italy  On 27 September 1940, Japan became cosignatori...\n",
       "Russia     France  Eventually, nine nations would overtly develop...\n",
       "Russia      China  Eventually, nine nations would overtly develop...\n",
       "France      China  Eventually, nine nations would overtly develop...\n",
       "Germany    France  Germany, chief instigator of the war, was plac..."
      ]
     },
     "execution_count": 43,
     "metadata": {},
     "output_type": "execute_result"
    }
   ],
   "source": [
    "relationship_df"
   ]
  },
  {
   "cell_type": "markdown",
   "id": "5e974712-7b40-4e30-b88c-9df2e47976e9",
   "metadata": {},
   "source": [
    "#### Graph visualization - Networkx"
   ]
  },
  {
   "cell_type": "code",
   "execution_count": 44,
   "id": "7a36c51e-61b9-4d5b-8c6d-d9d5ab082d67",
   "metadata": {},
   "outputs": [],
   "source": [
    "# Re-read the file with the first row as the header\n",
    "relationship_df = pd.read_csv('/Users/ashwanisherawat/Downloads/Download/relationships.csv', delimiter=None, engine='python', header=0)"
   ]
  },
  {
   "cell_type": "code",
   "execution_count": 45,
   "id": "41bfd484-2bb0-45cd-ae4c-a372efe9fb16",
   "metadata": {},
   "outputs": [
    {
     "data": {
      "text/plain": [
       "(['Entity 1', 'Entity 2', 'Sentence'],\n",
       "   Entity 1 Entity 2                                           Sentence\n",
       " 0  Germany   Russia  The Bolsheviks negotiated the Treaty of Brest-...\n",
       " 1  Germany    Italy  Germany, 1933\\nFascism first appeared in Italy...\n",
       " 2  Germany  Germany  When Adolf Hitler came to power in Germany in ...\n",
       " 3   France  Germany  Britain and France, much to Hitler's surprise,...\n",
       " 4  Germany    Italy  Both Germany and Italy declared war on the Uni...)"
      ]
     },
     "execution_count": 45,
     "metadata": {},
     "output_type": "execute_result"
    }
   ],
   "source": [
    "# Display the updated column names and first few rows\n",
    "relationship_df.columns.tolist(), relationship_df.head()\n"
   ]
  },
  {
   "cell_type": "code",
   "execution_count": 46,
   "id": "307d44cd-be64-4b06-b29b-a2c8fb6557ef",
   "metadata": {},
   "outputs": [
    {
     "data": {
      "text/plain": [
       "['Entity 1', 'Entity 2', 'Sentence']"
      ]
     },
     "execution_count": 46,
     "metadata": {},
     "output_type": "execute_result"
    }
   ],
   "source": [
    "# Display the exact column names in the dataframe to check for issues\n",
    "relationship_df.columns.tolist()\n"
   ]
  },
  {
   "cell_type": "code",
   "execution_count": 47,
   "id": "a12811e2-463d-4378-9b94-de6b83a1d5c9",
   "metadata": {},
   "outputs": [],
   "source": [
    "# Create a static network graph using only NetworkX (no visualization libraries)\n",
    "\n",
    "# Create an undirected graph for simplicity\n",
    "G_static = nx.Graph()"
   ]
  },
  {
   "cell_type": "code",
   "execution_count": 51,
   "id": "f36c9928-f537-4077-9ae7-3462e5d13251",
   "metadata": {},
   "outputs": [],
   "source": [
    "# Create a graph from a pandas dataframe\n",
    "\n",
    "G = nx.from_pandas_edgelist(relationship_df, \n",
    "                            source = \"Entity 1\", \n",
    "                            target = \"Entity 2\", \n",
    "                            edge_attr = \"Sentence\", \n",
    "                            create_using = nx.Graph())"
   ]
  },
  {
   "cell_type": "code",
   "execution_count": 52,
   "id": "9adf950f-f79e-4ab4-b4e2-747d0db12afd",
   "metadata": {},
   "outputs": [
    {
     "data": {
      "image/png": "[encoded data removed]",
      "text/plain": [
       "<Figure size 700x700 with 1 Axes>"
      ]
     },
     "metadata": {},
     "output_type": "display_data"
    }
   ],
   "source": [
    "h = plt.figure(figsize = (7,7))\n",
    "pos = nx.kamada_kawai_layout(G)\n",
    "nx.draw(G, with_labels = True, node_color = 'red', edge_cmap = plt.cm.Blues, pos = pos)\n",
    "plt.show() "
   ]
  },
  {
   "cell_type": "code",
   "execution_count": 57,
   "id": "cc8c1a59-4f03-4309-850d-582bdd8e8e2c",
   "metadata": {},
   "outputs": [],
   "source": [
    "h.savefig('networkx_plt_alice.png')"
   ]
  },
  {
   "cell_type": "markdown",
   "id": "4f07e8ce-3e42-4de4-865b-9c765d5f74a3",
   "metadata": {},
   "source": [
    "#### Graph visualization - Pyvis"
   ]
  },
  {
   "cell_type": "code",
   "execution_count": 58,
   "id": "6b28403f-7058-46ab-ba69-b6a02736c720",
   "metadata": {},
   "outputs": [
    {
     "name": "stdout",
     "output_type": "stream",
     "text": [
      "Local cdn resources have problems on chrome/safari when used in jupyter-notebook. \n"
     ]
    }
   ],
   "source": [
    "# Create a PyVis network object\n",
    "net = Network(height=\"750px\", width=\"100%\", notebook=True, directed=False)"
   ]
  },
  {
   "cell_type": "code",
   "execution_count": 59,
   "id": "dac1decf-35a2-47f5-a7ae-bda361bf0031",
   "metadata": {},
   "outputs": [],
   "source": [
    "# Add nodes and edges to the PyVis network from the NetworkX graph\n",
    "for node in G_static.nodes():\n",
    "    net.add_node(node, label=node)\n",
    "\n",
    "for source, target, data in G_static.edges(data=True):\n",
    "    sentence = data.get('sentence', '')\n",
    "    net.add_edge(source, target, title=sentence)\n",
    "\n"
   ]
  },
  {
   "cell_type": "code",
   "execution_count": 60,
   "id": "3e0fe04d-612c-466a-881b-e392a00a4c73",
   "metadata": {},
   "outputs": [],
   "source": [
    "# Set options for better visualization\n",
    "net.set_options(\"\"\"\n",
    "var options = {\n",
    "  \"nodes\": {\n",
    "    \"font\": {\n",
    "      \"size\": 16\n",
    "    },\n",
    "    \"shape\": \"dot\",\n",
    "    \"size\": 20\n",
    "  },\n",
    "  \"edges\": {\n",
    "    \"arrows\": {\n",
    "      \"to\": {\n",
    "        \"enabled\": false\n",
    "      }\n",
    "    },\n",
    "    \"color\": {\n",
    "      \"inherit\": true\n",
    "    },\n",
    "    \"smooth\": false\n",
    "  },\n",
    "  \"physics\": {\n",
    "    \"enabled\": true,\n",
    "    \"stabilization\": {\n",
    "      \"iterations\": 100\n",
    "    }\n",
    "  }\n",
    "}\n",
    "\"\"\")\n",
    "\n"
   ]
  },
  {
   "cell_type": "code",
   "execution_count": 67,
   "id": "4e481936-4d48-46f4-9d6b-5d218de7d973",
   "metadata": {},
   "outputs": [],
   "source": [
    "output_path = \"interactive_country_relationships.html\"\n",
    "net.save_graph(output_path)\n"
   ]
  },
  {
   "cell_type": "markdown",
   "id": "79f0c616-6530-460c-ba65-848082584cb1",
   "metadata": {},
   "source": [
    "## Applying the Leiden algorithm to detect any communities within the countries."
   ]
  },
  {
   "cell_type": "code",
   "execution_count": 81,
   "id": "3c0b9ff0-e9af-4514-9351-ae5d237d6544",
   "metadata": {},
   "outputs": [],
   "source": [
    "# Install necessary libraries (if not already installed)\n",
    "# !pip install cdlib leidenalg igraph\n",
    "\n",
    "import networkx as nx\n",
    "import igraph as ig\n",
    "from cdlib import algorithms"
   ]
  },
  {
   "cell_type": "code",
   "execution_count": 90,
   "id": "0a34fb0d-4b39-4374-9639-b999fb90c223",
   "metadata": {},
   "outputs": [],
   "source": [
    "# Convert the NetworkX graph to an iGraph object\n",
    "igraph_graph = ig.Graph.TupleList(G_static.edges(), directed=False)"
   ]
  },
  {
   "cell_type": "code",
   "execution_count": 91,
   "id": "5133459e-1f42-41e6-856f-f9a193da5893",
   "metadata": {},
   "outputs": [
    {
     "name": "stdout",
     "output_type": "stream",
     "text": [
      "Requirement already satisfied: cdlib in /opt/anaconda3/envs/20th_century/lib/python3.12/site-packages (0.4.0)\n",
      "Collecting leidenalg\n",
      "  Downloading leidenalg-0.10.2-cp38-abi3-macosx_11_0_arm64.whl.metadata (10 kB)\n",
      "Requirement already satisfied: igraph in /opt/anaconda3/envs/20th_century/lib/python3.12/site-packages (0.11.8)\n",
      "Requirement already satisfied: numpy in /opt/anaconda3/envs/20th_century/lib/python3.12/site-packages (from cdlib) (2.2.1)\n",
      "Requirement already satisfied: scikit-learn in /opt/anaconda3/envs/20th_century/lib/python3.12/site-packages (from cdlib) (1.6.0)\n",
      "Requirement already satisfied: tqdm in /opt/anaconda3/envs/20th_century/lib/python3.12/site-packages (from cdlib) (4.67.1)\n",
      "Requirement already satisfied: networkx>=3.0 in /opt/anaconda3/envs/20th_century/lib/python3.12/site-packages (from cdlib) (3.4.2)\n",
      "Requirement already satisfied: demon in /opt/anaconda3/envs/20th_century/lib/python3.12/site-packages (from cdlib) (2.0.6)\n",
      "Requirement already satisfied: python-louvain>=0.16 in /opt/anaconda3/envs/20th_century/lib/python3.12/site-packages (from cdlib) (0.16)\n",
      "Requirement already satisfied: scipy>=1.10 in /opt/anaconda3/envs/20th_century/lib/python3.12/site-packages (from cdlib) (1.14.1)\n",
      "Requirement already satisfied: pulp in /opt/anaconda3/envs/20th_century/lib/python3.12/site-packages (from cdlib) (2.9.0)\n",
      "Requirement already satisfied: seaborn in /opt/anaconda3/envs/20th_century/lib/python3.12/site-packages (from cdlib) (0.13.2)\n",
      "Requirement already satisfied: pandas in /opt/anaconda3/envs/20th_century/lib/python3.12/site-packages (from cdlib) (2.2.3)\n",
      "Requirement already satisfied: eva-lcd in /opt/anaconda3/envs/20th_century/lib/python3.12/site-packages (from cdlib) (0.1.1)\n",
      "Requirement already satisfied: bimlpa in /opt/anaconda3/envs/20th_century/lib/python3.12/site-packages (from cdlib) (0.1.2)\n",
      "Requirement already satisfied: python-igraph>=0.10 in /opt/anaconda3/envs/20th_century/lib/python3.12/site-packages (from cdlib) (0.11.8)\n",
      "Requirement already satisfied: angelcommunity in /opt/anaconda3/envs/20th_century/lib/python3.12/site-packages (from cdlib) (2.0.0)\n",
      "Requirement already satisfied: pooch in /opt/anaconda3/envs/20th_century/lib/python3.12/site-packages (from cdlib) (1.8.2)\n",
      "Requirement already satisfied: dynetx in /opt/anaconda3/envs/20th_century/lib/python3.12/site-packages (from cdlib) (0.3.2)\n",
      "Requirement already satisfied: thresholdclustering in /opt/anaconda3/envs/20th_century/lib/python3.12/site-packages (from cdlib) (1.1)\n",
      "Requirement already satisfied: python-Levenshtein in /opt/anaconda3/envs/20th_century/lib/python3.12/site-packages (from cdlib) (0.26.1)\n",
      "Requirement already satisfied: plotly in /opt/anaconda3/envs/20th_century/lib/python3.12/site-packages (from cdlib) (5.24.1)\n",
      "Requirement already satisfied: texttable>=1.6.2 in /opt/anaconda3/envs/20th_century/lib/python3.12/site-packages (from igraph) (1.7.0)\n",
      "Requirement already satisfied: future in /opt/anaconda3/envs/20th_century/lib/python3.12/site-packages (from angelcommunity->cdlib) (1.0.0)\n",
      "Requirement already satisfied: matplotlib in /opt/anaconda3/envs/20th_century/lib/python3.12/site-packages (from bimlpa->cdlib) (3.10.0)\n",
      "Requirement already satisfied: decorator in /opt/anaconda3/envs/20th_century/lib/python3.12/site-packages (from dynetx->cdlib) (5.1.1)\n",
      "Requirement already satisfied: python-dateutil>=2.8.2 in /opt/anaconda3/envs/20th_century/lib/python3.12/site-packages (from pandas->cdlib) (2.9.0.post0)\n",
      "Requirement already satisfied: pytz>=2020.1 in /opt/anaconda3/envs/20th_century/lib/python3.12/site-packages (from pandas->cdlib) (2024.2)\n",
      "Requirement already satisfied: tzdata>=2022.7 in /opt/anaconda3/envs/20th_century/lib/python3.12/site-packages (from pandas->cdlib) (2024.2)\n",
      "Requirement already satisfied: tenacity>=6.2.0 in /opt/anaconda3/envs/20th_century/lib/python3.12/site-packages (from plotly->cdlib) (9.0.0)\n",
      "Requirement already satisfied: packaging in /opt/anaconda3/envs/20th_century/lib/python3.12/site-packages (from plotly->cdlib) (24.2)\n",
      "Requirement already satisfied: platformdirs>=2.5.0 in /opt/anaconda3/envs/20th_century/lib/python3.12/site-packages (from pooch->cdlib) (3.10.0)\n",
      "Requirement already satisfied: requests>=2.19.0 in /opt/anaconda3/envs/20th_century/lib/python3.12/site-packages (from pooch->cdlib) (2.28.1)\n",
      "Requirement already satisfied: Levenshtein==0.26.1 in /opt/anaconda3/envs/20th_century/lib/python3.12/site-packages (from python-Levenshtein->cdlib) (0.26.1)\n",
      "Requirement already satisfied: rapidfuzz<4.0.0,>=3.9.0 in /opt/anaconda3/envs/20th_century/lib/python3.12/site-packages (from Levenshtein==0.26.1->python-Levenshtein->cdlib) (3.11.0)\n",
      "Requirement already satisfied: joblib>=1.2.0 in /opt/anaconda3/envs/20th_century/lib/python3.12/site-packages (from scikit-learn->cdlib) (1.4.2)\n",
      "Requirement already satisfied: threadpoolctl>=3.1.0 in /opt/anaconda3/envs/20th_century/lib/python3.12/site-packages (from scikit-learn->cdlib) (3.5.0)\n",
      "Requirement already satisfied: contourpy>=1.0.1 in /opt/anaconda3/envs/20th_century/lib/python3.12/site-packages (from matplotlib->bimlpa->cdlib) (1.3.1)\n",
      "Requirement already satisfied: cycler>=0.10 in /opt/anaconda3/envs/20th_century/lib/python3.12/site-packages (from matplotlib->bimlpa->cdlib) (0.12.1)\n",
      "Requirement already satisfied: fonttools>=4.22.0 in /opt/anaconda3/envs/20th_century/lib/python3.12/site-packages (from matplotlib->bimlpa->cdlib) (4.55.3)\n",
      "Requirement already satisfied: kiwisolver>=1.3.1 in /opt/anaconda3/envs/20th_century/lib/python3.12/site-packages (from matplotlib->bimlpa->cdlib) (1.4.8)\n",
      "Requirement already satisfied: pillow>=8 in /opt/anaconda3/envs/20th_century/lib/python3.12/site-packages (from matplotlib->bimlpa->cdlib) (11.0.0)\n",
      "Requirement already satisfied: pyparsing>=2.3.1 in /opt/anaconda3/envs/20th_century/lib/python3.12/site-packages (from matplotlib->bimlpa->cdlib) (3.2.0)\n",
      "Requirement already satisfied: six>=1.5 in /opt/anaconda3/envs/20th_century/lib/python3.12/site-packages (from python-dateutil>=2.8.2->pandas->cdlib) (1.16.0)\n",
      "Requirement already satisfied: charset-normalizer<3,>=2 in /opt/anaconda3/envs/20th_century/lib/python3.12/site-packages (from requests>=2.19.0->pooch->cdlib) (2.1.1)\n",
      "Requirement already satisfied: idna<4,>=2.5 in /opt/anaconda3/envs/20th_century/lib/python3.12/site-packages (from requests>=2.19.0->pooch->cdlib) (3.10)\n",
      "Requirement already satisfied: urllib3<1.27,>=1.21.1 in /opt/anaconda3/envs/20th_century/lib/python3.12/site-packages (from requests>=2.19.0->pooch->cdlib) (1.26.20)\n",
      "Requirement already satisfied: certifi>=2017.4.17 in /opt/anaconda3/envs/20th_century/lib/python3.12/site-packages (from requests>=2.19.0->pooch->cdlib) (2024.12.14)\n",
      "Downloading leidenalg-0.10.2-cp38-abi3-macosx_11_0_arm64.whl (1.4 MB)\n",
      "\u001b[2K   \u001b[90m━━━━━━━━━━━━━━━━━━━━━━━━━━━━━━━━━━━━━━━━\u001b[0m \u001b[32m1.4/1.4 MB\u001b[0m \u001b[31m1.4 MB/s\u001b[0m eta \u001b[36m0:00:00\u001b[0ma \u001b[36m0:00:01\u001b[0m\n",
      "Installing collected packages: leidenalg\n",
      "Successfully installed leidenalg-0.10.2\n"
     ]
    }
   ],
   "source": [
    "!pip install cdlib leidenalg igraph"
   ]
  },
  {
   "cell_type": "code",
   "execution_count": 92,
   "id": "e09b2f26-2e0f-4027-920f-d37bbe1b7902",
   "metadata": {},
   "outputs": [],
   "source": [
    "# Apply the Leiden algorithm using the iGraph object\n",
    "leiden_communities = algorithms.leiden(igraph_graph)"
   ]
  },
  {
   "cell_type": "code",
   "execution_count": 94,
   "id": "6e64d1ee-0eef-47c5-900e-a491097d0c27",
   "metadata": {},
   "outputs": [],
   "source": [
    "# Extract community membership information\n",
    "community_result = leiden_communities.communities"
   ]
  },
  {
   "cell_type": "code",
   "execution_count": 95,
   "id": "f9ecbed2-8ab1-4cc5-b2c2-f73b09a9acac",
   "metadata": {},
   "outputs": [
    {
     "data": {
      "text/plain": [
       "[['Russia', 'France', 'China'], ['Germany', 'Italy']]"
      ]
     },
     "execution_count": 95,
     "metadata": {},
     "output_type": "execute_result"
    }
   ],
   "source": [
    "# Display the detected communities\n",
    "community_result"
   ]
  },
  {
   "cell_type": "code",
   "execution_count": 96,
   "id": "67324b07-8772-4bb7-b25a-8a0a6a526645",
   "metadata": {},
   "outputs": [],
   "source": [
    "from cdlib import algorithms\n",
    "coms = algorithms.leiden(G)"
   ]
  },
  {
   "cell_type": "code",
   "execution_count": 97,
   "id": "7ae274d9-6309-4e13-a3e2-50fbb157fb9d",
   "metadata": {},
   "outputs": [
    {
     "data": {
      "text/plain": [
       "cdlib.classes.node_clustering.NodeClustering"
      ]
     },
     "execution_count": 97,
     "metadata": {},
     "output_type": "execute_result"
    }
   ],
   "source": [
    "type(coms)"
   ]
  },
  {
   "cell_type": "code",
   "execution_count": 98,
   "id": "dd645b6f-8bbb-4eda-9c7d-26f77747cde0",
   "metadata": {},
   "outputs": [],
   "source": [
    "new_com = coms.to_node_community_map()"
   ]
  },
  {
   "cell_type": "code",
   "execution_count": 99,
   "id": "3fc2a776-3f1b-407f-8fe5-a969fb51964f",
   "metadata": {},
   "outputs": [
    {
     "data": {
      "text/plain": [
       "defaultdict(list,\n",
       "            {'Russia': [0],\n",
       "             'France': [0],\n",
       "             'China': [0],\n",
       "             'Germany': [1],\n",
       "             'Italy': [1]})"
      ]
     },
     "execution_count": 99,
     "metadata": {},
     "output_type": "execute_result"
    }
   ],
   "source": [
    "new_com"
   ]
  },
  {
   "cell_type": "code",
   "execution_count": 100,
   "id": "8be954a5-7926-467b-b367-122b2558bda7",
   "metadata": {},
   "outputs": [],
   "source": [
    "# Put the output from new_com into a dictionary\n",
    "\n",
    "dict_com = {k:v[0] for k,v in new_com.items()}"
   ]
  },
  {
   "cell_type": "code",
   "execution_count": 101,
   "id": "1d964b23-3991-4b62-8def-b3b3446c9e70",
   "metadata": {},
   "outputs": [
    {
     "data": {
      "text/plain": [
       "{'Russia': 0, 'France': 0, 'China': 0, 'Germany': 1, 'Italy': 1}"
      ]
     },
     "execution_count": 101,
     "metadata": {},
     "output_type": "execute_result"
    }
   ],
   "source": [
    "dict_com"
   ]
  },
  {
   "cell_type": "code",
   "execution_count": 102,
   "id": "9ae725c9-67ad-44f0-9118-77b35cc43ce3",
   "metadata": {
    "scrolled": true
   },
   "outputs": [
    {
     "name": "stdout",
     "output_type": "stream",
     "text": [
      "Local cdn resources have problems on chrome/safari when used in jupyter-notebook. \n"
     ]
    },
    {
     "data": {
      "text/html": [
       "\n",
       "        <iframe\n",
       "            width=\"1300px\"\n",
       "            height=\"700px\"\n",
       "            src=\"interactive_communities_country_relationships.html\"\n",
       "            frameborder=\"0\"\n",
       "            allowfullscreen\n",
       "            \n",
       "        ></iframe>\n",
       "        "
      ],
      "text/plain": [
       "<IPython.lib.display.IFrame at 0x119ef29c0>"
      ]
     },
     "execution_count": 102,
     "metadata": {},
     "output_type": "execute_result"
    }
   ],
   "source": [
    "# Rerun network graph with the communities as an argument\n",
    "\n",
    "nx.set_node_attributes(G, dict_com, 'group')\n",
    "com_net = Network(notebook = True, width=\"1300px\", height=\"700px\", bgcolor='#222222', font_color='white')\n",
    "com_net.from_nx(G)\n",
    "com_net.show_buttons(filter_ = True)\n",
    "com_net.repulsion()\n",
    "com_net.show(\"interactive_communities_country_relationships.html\")"
   ]
  },
  {
   "cell_type": "markdown",
   "id": "8a8474bb-1829-4b74-8cdb-9a4a50c19013",
   "metadata": {},
   "source": [
    "## The most important characters in 20th Century "
   ]
  },
  {
   "cell_type": "code",
   "execution_count": 103,
   "id": "71b1b14a-e2ea-4512-a75e-66d610829587",
   "metadata": {},
   "outputs": [
    {
     "data": {
      "text/plain": [
       "{'Germany': 1.25, 'Russia': 0.75, 'Italy': 0.25, 'France': 0.75, 'China': 0.5}"
      ]
     },
     "execution_count": 103,
     "metadata": {},
     "output_type": "execute_result"
    }
   ],
   "source": [
    "# Degree centrality\n",
    "\n",
    "degree_dict = nx.degree_centrality(G)\n",
    "degree_dict"
   ]
  },
  {
   "cell_type": "code",
   "execution_count": 104,
   "id": "4084a73a-549c-4a96-b343-bc6449b566be",
   "metadata": {},
   "outputs": [],
   "source": [
    "degree_df = pd.DataFrame(degree_dict.items(), columns=['characters','centrality'])"
   ]
  },
  {
   "cell_type": "code",
   "execution_count": 105,
   "id": "30ac5e84-2722-474f-ab50-4a7d66e60763",
   "metadata": {},
   "outputs": [],
   "source": [
    "degree_df.sort_values(by = ['centrality'], ascending=False, inplace = True)"
   ]
  },
  {
   "cell_type": "code",
   "execution_count": 106,
   "id": "1017e870-1b2c-4705-b4c7-8ac2cade78f2",
   "metadata": {},
   "outputs": [
    {
     "data": {
      "image/png": "[encoded data removed]",
      "text/plain": [
       "<Figure size 1000x400 with 1 Axes>"
      ]
     },
     "metadata": {},
     "output_type": "display_data"
    }
   ],
   "source": [
    "# Plot the degree centrality\n",
    "\n",
    "plt.figure(figsize = (10, 4))\n",
    "with sns.dark_palette(\"xkcd:blue\", 22):\n",
    "    sns.barplot(x = \"centrality\", y = \"characters\",\n",
    "    saturation = 0.9, data = degree_df).set_title(\"Alice in Wonderland - degree centrality\")"
   ]
  },
  {
   "cell_type": "code",
   "execution_count": 107,
   "id": "d4e19828-62ea-485a-b739-ba5d29d95839",
   "metadata": {},
   "outputs": [],
   "source": [
    "# Closeness centrality\n",
    "\n",
    "closeness_dict = nx.closeness_centrality(G)\n",
    "closeness_df = pd.DataFrame(closeness_dict.items(), columns=['characters','centrality'])"
   ]
  },
  {
   "cell_type": "code",
   "execution_count": 108,
   "id": "fa6ae699-6491-4530-a021-d9add5dfd3dd",
   "metadata": {},
   "outputs": [],
   "source": [
    "closeness_df.sort_values(by = ['centrality'], ascending=False, inplace = True)"
   ]
  },
  {
   "cell_type": "code",
   "execution_count": 109,
   "id": "2b86e612-410f-41a6-b9ac-73673d9ff3b8",
   "metadata": {},
   "outputs": [
    {
     "data": {
      "image/png": "[encoded data removed]",
      "text/plain": [
       "<Figure size 1000x400 with 1 Axes>"
      ]
     },
     "metadata": {},
     "output_type": "display_data"
    }
   ],
   "source": [
    "plt.figure(figsize = (10, 4))\n",
    "with sns.dark_palette(\"xkcd:blue\", 22):\n",
    "    sns.barplot(x = \"centrality\", y = \"characters\",\n",
    "    saturation = 0.9, data = closeness_df).set_title(\"20th Century - closeness centrality\")"
   ]
  },
  {
   "cell_type": "code",
   "execution_count": 110,
   "id": "dd92025c-8b86-4c97-bd3e-ad91b63098d7",
   "metadata": {},
   "outputs": [],
   "source": [
    "# Betweenness centrality\n",
    "\n",
    "betweenness_dict = nx.betweenness_centrality(G)\n",
    "betweennes_df = pd.DataFrame(betweenness_dict.items(), columns=['characters','centrality'])"
   ]
  },
  {
   "cell_type": "code",
   "execution_count": 111,
   "id": "418f3a26-6b09-4add-90da-c31d78801f81",
   "metadata": {},
   "outputs": [],
   "source": [
    "betweennes_df.sort_values(by = ['centrality'], ascending=False, inplace = True)"
   ]
  },
  {
   "cell_type": "code",
   "execution_count": 112,
   "id": "4104edc7-cfd8-41d7-ae79-8205c0ad4e1d",
   "metadata": {},
   "outputs": [
    {
     "data": {
      "image/png": "[encoded data removed]",
      "text/plain": [
       "<Figure size 1000x400 with 1 Axes>"
      ]
     },
     "metadata": {},
     "output_type": "display_data"
    }
   ],
   "source": [
    "plt.figure(figsize = (10, 4))\n",
    "with sns.dark_palette(\"xkcd:blue\", 22):\n",
    "    sns.barplot(x = \"centrality\", y = \"characters\",\n",
    "    saturation = 0.9, data = betweennes_df).set_title(\"Alice in Wonderland - betweenness centrality\")"
   ]
  },
  {
   "cell_type": "code",
   "execution_count": 113,
   "id": "980ed847-a753-4c23-a97e-348a2bb27bd6",
   "metadata": {},
   "outputs": [],
   "source": [
    "# Save centrality measures\n",
    "nx.set_node_attributes(G, degree_dict, 'degree_centrality')\n",
    "nx.set_node_attributes(G, betweenness_dict, 'betweenness_centrality')\n",
    "nx.set_node_attributes(G, closeness_dict, 'closeness_centrality')"
   ]
  },
  {
   "cell_type": "code",
   "execution_count": null,
   "id": "2720c677-d4de-49b4-b2be-a95ded989152",
   "metadata": {},
   "outputs": [],
   "source": []
  }
 ],
 "metadata": {
  "kernelspec": {
   "display_name": "Python 3 (ipykernel)",
   "language": "python",
   "name": "python3"
  },
  "language_info": {
   "codemirror_mode": {
    "name": "ipython",
    "version": 3
   },
   "file_extension": ".py",
   "mimetype": "text/x-python",
   "name": "python",
   "nbconvert_exporter": "python",
   "pygments_lexer": "ipython3",
   "version": "3.12.8"
  }
 },
 "nbformat": 4,
 "nbformat_minor": 5
}
