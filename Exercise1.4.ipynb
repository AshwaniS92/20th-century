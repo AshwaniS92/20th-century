{
 "cells": [
  {
   "cell_type": "markdown",
   "id": "cad92741-eca3-4ebe-be6e-9a822096372b",
   "metadata": {},
   "source": [
    "## Installed all the desired libraries"
   ]
  },
  {
   "cell_type": "code",
   "execution_count": 2,
   "id": "3ded7f6b-2121-46bc-8cbd-3c2436ac6072",
   "metadata": {},
   "outputs": [],
   "source": [
    "import pandas as pd\n",
    "import numpy as np"
   ]
  },
  {
   "cell_type": "code",
   "execution_count": 3,
   "id": "14804b02-222f-46eb-bd59-e1437d76efaa",
   "metadata": {},
   "outputs": [
    {
     "name": "stdout",
     "output_type": "stream",
     "text": [
      "All libraries are successfully imported!\n"
     ]
    }
   ],
   "source": [
    "import pandas as pd\n",
    "import time\n",
    "from selenium import webdriver\n",
    "from webdriver_manager.chrome import ChromeDriverManager\n",
    "from selenium.webdriver.common.by import By\n",
    "from selenium.webdriver.chrome.service import Service\n",
    "from selenium.webdriver.chrome.options import Options\n",
    "import matplotlib.pyplot as plt\n",
    "import os\n",
    "import logging\n",
    "\n",
    "print(\"All libraries are successfully imported!\")\n"
   ]
  },
  {
   "cell_type": "code",
   "execution_count": 4,
   "id": "603cc876-597b-42f8-b9d7-fe3f96cfd5bc",
   "metadata": {},
   "outputs": [
    {
     "name": "stdout",
     "output_type": "stream",
     "text": [
      "Requirement already satisfied: requests==2.28.1 in /opt/anaconda3/envs/20th_century/lib/python3.12/site-packages (2.28.1)\n",
      "Requirement already satisfied: beautifulsoup4==4.11.1 in /opt/anaconda3/envs/20th_century/lib/python3.12/site-packages (4.11.1)\n",
      "Requirement already satisfied: charset-normalizer<3,>=2 in /opt/anaconda3/envs/20th_century/lib/python3.12/site-packages (from requests==2.28.1) (2.1.1)\n",
      "Requirement already satisfied: idna<4,>=2.5 in /opt/anaconda3/envs/20th_century/lib/python3.12/site-packages (from requests==2.28.1) (3.10)\n",
      "Requirement already satisfied: urllib3<1.27,>=1.21.1 in /opt/anaconda3/envs/20th_century/lib/python3.12/site-packages (from requests==2.28.1) (1.26.20)\n",
      "Requirement already satisfied: certifi>=2017.4.17 in /opt/anaconda3/envs/20th_century/lib/python3.12/site-packages (from requests==2.28.1) (2024.12.14)\n",
      "Requirement already satisfied: soupsieve>1.2 in /opt/anaconda3/envs/20th_century/lib/python3.12/site-packages (from beautifulsoup4==4.11.1) (2.6)\n",
      "Note: you may need to restart the kernel to use updated packages.\n"
     ]
    }
   ],
   "source": [
    "pip install requests==2.28.1 beautifulsoup4==4.11.1"
   ]
  },
  {
   "cell_type": "code",
   "execution_count": 6,
   "id": "4a8b6920-d454-4689-8074-a1b2c8df43b3",
   "metadata": {},
   "outputs": [],
   "source": [
    "from selenium import webdriver\n",
    "from selenium.webdriver.chrome.service import Service\n",
    "from webdriver_manager.chrome import ChromeDriverManager"
   ]
  },
  {
   "cell_type": "code",
   "execution_count": 7,
   "id": "4f56a781-1652-4f84-b457-f867ea8511cc",
   "metadata": {},
   "outputs": [],
   "source": [
    "# Set up the ChromeDriver Service\n",
    "service = Service(ChromeDriverManager().install())"
   ]
  },
  {
   "cell_type": "code",
   "execution_count": 8,
   "id": "2db24676-2f55-48a7-afbe-da0a401be6e9",
   "metadata": {},
   "outputs": [],
   "source": [
    "# Initialize the WebDriver using the Service\n",
    "driver = webdriver.Chrome(service=service)"
   ]
  },
  {
   "cell_type": "code",
   "execution_count": 9,
   "id": "74981959-f8a1-4a60-b073-f9b6d8c0da73",
   "metadata": {},
   "outputs": [
    {
     "name": "stdout",
     "output_type": "stream",
     "text": [
      "Browser launched successfully!\n"
     ]
    }
   ],
   "source": [
    "# Open a webpage as a test\n",
    "driver.get(\"https://www.google.com\")\n",
    "print(\"Browser launched successfully!\")"
   ]
  },
  {
   "cell_type": "markdown",
   "id": "f346a319-8ce6-45b1-a1a2-79832f3c88df",
   "metadata": {},
   "source": [
    "## Scrapped the Contents from the page"
   ]
  },
  {
   "cell_type": "code",
   "execution_count": 11,
   "id": "1ca2f14e-1cf2-4b8c-9217-8f42873c4c46",
   "metadata": {},
   "outputs": [],
   "source": [
    "# Get the page’s contents\n",
    "\n",
    "page_url = \"https://en.wikipedia.org/wiki/Key_events_of_the_20th_century\"\n",
    "driver.get(page_url)"
   ]
  },
  {
   "cell_type": "code",
   "execution_count": 12,
   "id": "1cab64e5-3349-49f3-8109-b965582ee84b",
   "metadata": {},
   "outputs": [],
   "source": [
    "import requests"
   ]
  },
  {
   "cell_type": "code",
   "execution_count": 14,
   "id": "0507a80b-560b-4a7c-a93e-0960b5859833",
   "metadata": {},
   "outputs": [],
   "source": [
    "# Download the page\n",
    "response = requests.get(page_url)"
   ]
  },
  {
   "cell_type": "code",
   "execution_count": 23,
   "id": "d3c532d0-59f9-42f6-a5ff-f626c265bedd",
   "metadata": {},
   "outputs": [],
   "source": [
    "# Save the page content to a file\n",
    "with open(\"key_events_20th_century.txt\", \"w\", encoding=\"utf-8\") as file:\n",
    "    file.write(response.text)"
   ]
  },
  {
   "cell_type": "code",
   "execution_count": 24,
   "id": "9f05a92e-92c6-4102-9ae5-fa6245640bdd",
   "metadata": {},
   "outputs": [
    {
     "name": "stdout",
     "output_type": "stream",
     "text": [
      "Page downloaded successfully!\n"
     ]
    }
   ],
   "source": [
    "print(\"Page downloaded successfully!\")"
   ]
  },
  {
   "cell_type": "code",
   "execution_count": 21,
   "id": "4b90e323-dade-4c38-b272-7b9ab9d93617",
   "metadata": {},
   "outputs": [],
   "source": [
    "from IPython.display import FileLink"
   ]
  },
  {
   "cell_type": "code",
   "execution_count": 22,
   "id": "f5587a6c-5cfc-4af6-b872-2efee1df23c2",
   "metadata": {},
   "outputs": [
    {
     "data": {
      "text/html": [
       "<a href='key_events_20th_century.txt' target='_blank'>key_events_20th_century.txt</a><br>"
      ],
      "text/plain": [
       "/Users/ashwanisherawat/Downloads/key_events_20th_century.txt"
      ]
     },
     "execution_count": 22,
     "metadata": {},
     "output_type": "execute_result"
    }
   ],
   "source": [
    "# Provide a download link for the file\n",
    "FileLink(\"key_events_20th_century.txt\")"
   ]
  },
  {
   "cell_type": "markdown",
   "id": "2da001f8-1d6c-46aa-94ad-a28a24b13e45",
   "metadata": {},
   "source": [
    "Note: Also Sharing HTML version of the file as well"
   ]
  },
  {
   "cell_type": "code",
   "execution_count": null,
   "id": "a95e8329-58c0-40be-953c-bcb5898b41b6",
   "metadata": {},
   "outputs": [],
   "source": []
  }
 ],
 "metadata": {
  "kernelspec": {
   "display_name": "Python 3 (ipykernel)",
   "language": "python",
   "name": "python3"
  },
  "language_info": {
   "codemirror_mode": {
    "name": "ipython",
    "version": 3
   },
   "file_extension": ".py",
   "mimetype": "text/x-python",
   "name": "python",
   "nbconvert_exporter": "python",
   "pygments_lexer": "ipython3",
   "version": "3.12.8"
  }
 },
 "nbformat": 4,
 "nbformat_minor": 5
}
